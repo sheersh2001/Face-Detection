{
 "cells": [
  {
   "cell_type": "code",
   "execution_count": 1,
   "id": "1bf45f87",
   "metadata": {},
   "outputs": [],
   "source": [
    "from email.message import EmailMessage\n",
    "import smtplib"
   ]
  },
  {
   "cell_type": "code",
   "execution_count": 7,
   "id": "b3b9eb13",
   "metadata": {},
   "outputs": [
    {
     "name": "stdout",
     "output_type": "stream",
     "text": [
      "Loggedin to server\n",
      "\n",
      "sending messages\n",
      "\n"
     ]
    }
   ],
   "source": [
    "msg = EmailMessage()\n",
    "msg['Subject'] = \"Hello\"\n",
    "msg['From'] = \"sheershjain06@gmail.com\"\n",
    "msg['To'] = \"sheershjain9413474744@gmail.com\"\n",
    "msg.set_content(\"Message\")\n",
    "with smtplib.SMTP_SSL('smtp.gmail.com', 465) as smtp:\n",
    "    print(\"Loggedin to server\\n\")\n",
    "    # Login to server\n",
    "    smtp.login(\"sheershjain06@gmail.com\", \"Password\")\n",
    "    print(\"sending messages\\n\")\n",
    "    # sending email\n",
    "    smtp.send_message(msg)"
   ]
  },
  {
   "cell_type": "code",
   "execution_count": null,
   "id": "f9e18e55",
   "metadata": {},
   "outputs": [],
   "source": [
    "    "
   ]
  }
 ],
 "metadata": {
  "kernelspec": {
   "display_name": "Python 3",
   "language": "python",
   "name": "python3"
  },
  "language_info": {
   "codemirror_mode": {
    "name": "ipython",
    "version": 3
   },
   "file_extension": ".py",
   "mimetype": "text/x-python",
   "name": "python",
   "nbconvert_exporter": "python",
   "pygments_lexer": "ipython3",
   "version": "3.8.8"
  }
 },
 "nbformat": 4,
 "nbformat_minor": 5
}
