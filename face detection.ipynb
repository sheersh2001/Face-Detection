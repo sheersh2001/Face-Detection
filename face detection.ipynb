{
 "cells": [
  {
   "cell_type": "code",
   "execution_count": 1,
   "id": "760da7dd",
   "metadata": {},
   "outputs": [],
   "source": [
    "import cv2"
   ]
  },
  {
   "cell_type": "code",
   "execution_count": 2,
   "id": "9fd8656b",
   "metadata": {},
   "outputs": [],
   "source": [
    "photo=cv2.VideoCapture(0)"
   ]
  },
  {
   "cell_type": "code",
   "execution_count": 3,
   "id": "ab904e96",
   "metadata": {},
   "outputs": [],
   "source": [
    "model=cv2.CascadeClassifier('haarcascade_frontalface_default.xml')"
   ]
  },
  {
   "cell_type": "code",
   "execution_count": 4,
   "id": "274998e7",
   "metadata": {},
   "outputs": [],
   "source": [
    "while True:\n",
    "    ret,cap=photo.read()\n",
    "    c=model.detectMultiScale(cap)\n",
    "    for (x,y,w,h) in c:\n",
    "        cap=cv2.rectangle(cap,(x,y),(x+w,y+h),[0,0,255],2)\n",
    "    cv2.imshow(\"Image\",cap)\n",
    "    if cv2.waitKey(100)==13:\n",
    "        break\n",
    "cv2.destroyAllWindows()"
   ]
  },
  {
   "cell_type": "code",
   "execution_count": 5,
   "id": "6dede6fa",
   "metadata": {},
   "outputs": [],
   "source": [
    "photo.release()"
   ]
  },
  {
   "cell_type": "code",
   "execution_count": null,
   "id": "ec69e741",
   "metadata": {},
   "outputs": [],
   "source": []
  }
 ],
 "metadata": {
  "kernelspec": {
   "display_name": "Python 3 (ipykernel)",
   "language": "python",
   "name": "python3"
  },
  "language_info": {
   "codemirror_mode": {
    "name": "ipython",
    "version": 3
   },
   "file_extension": ".py",
   "mimetype": "text/x-python",
   "name": "python",
   "nbconvert_exporter": "python",
   "pygments_lexer": "ipython3",
   "version": "3.10.5"
  }
 },
 "nbformat": 4,
 "nbformat_minor": 5
}
