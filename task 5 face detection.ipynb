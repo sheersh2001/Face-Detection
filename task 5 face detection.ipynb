{

  {
   "cell_type": "code",
   "execution_count": 26,
   "id": "e2c509a9",
   "metadata": {},
   "outputs": [],
   "source": [
    "import cv2\n",
    "from twilio.rest import Client\n",
    "from email.message import EmailMessage\n",
    "import smtplib\n",
    "from datetime import date\n",
    "from datetime import datetime"
   ]
  },
  {
   "cell_type": "code",
   "execution_count": 27,
   "id": "0853d1ff",
   "metadata": {},
   "outputs": [],
   "source": [
    "# Load the model to detect face \n",
    "now = datetime.now()\n",
    "today = date.today()\n",
    "dtime= now.strftime(\"%H:%M:%S\")\n",
    "ddate=today.strftime(\"%B %d, %Y\")\n",
    "alert = '''\n",
    " Security Alert! \n",
    "Someone has been spotted in the camera.\n",
    "During:-\n",
    "Date : '''+ddate+'''\n",
    "Time : '''+dtime+'''\n",
    "'''\n",
    "account_sid = \"ACb****************************727f\"\n",
    "auth_token = \"621******************************1e02\"\n",
    "password = \"ab**********2\"\n",
    "model = cv2.CascadeClassifier('haarcascade_frontalface_default.xml')\n",
    "client = Client(account_sid, auth_token)\n",
    "\n",
    "msg = EmailMessage()\n",
    "msg['Subject'] = \"Security Alert !!\"\n",
    "msg['From'] = \"sheershjain06@gmail.com\"\n",
    "msg['To'] = \"sheershjain9413474744@gmail.com\"\n",
    "msg.set_content(alert)"
   ]
  },
  {
   "cell_type": "code",
   "execution_count": 28,
   "id": "d07e5aa7",
   "metadata": {},
   "outputs": [
    {
     "name": "stdout",
     "output_type": "stream",
     "text": [
      "Loggedin to server\n",
      "\n",
      "sending messages\n",
      "\n",
      "SM3b4fbb4a83774e76acc33f1f0cadbcc6\n"
     ]
    }
   ],
   "source": [
    "# For live \n",
    "cap = cv2.VideoCapture(0)\n",
    "a=0\n",
    "while True:\n",
    "    ret,photo=cap.read()\n",
    "    faces=model.detectMultiScale(photo)\n",
    "    if len(faces) == 0:\n",
    "        pass\n",
    "    else:\n",
    "        for i in faces:\n",
    "            x1=i[0]\n",
    "            y1=i[1]\n",
    "            x2=x1+i[2]\n",
    "            y2=y1+i[3]\n",
    "            model_pic = cv2.rectangle(photo, (x1,y1),(x2,y2),[0,255,0],3)\n",
    "            \n",
    "            cv2.imshow(\"pic\",model_pic)\n",
    "            a+=1\n",
    "        if cv2.waitKey(10) == 13:\n",
    "            break\n",
    "cv2.destroyAllWindows()\n",
    "cap.release()\n",
    "if a>0:             \n",
    "    with smtplib.SMTP_SSL('smtp.gmail.com', 465) as smtp:\n",
    "        print(\"Loggedin to server\\n\")\n",
    "        # Login to server\n",
    "        smtp.login(\"sheershjain06@gmail.com\", password)\n",
    "        print(\"sending messages\\n\")\n",
    "        # sending email\n",
    "        smtp.send_message(msg)\n",
    "    message = client.messages.create(body=alert, from_='+12019322579', to='+918290673259')\n",
    "    print(message.sid)"
   ]
  },
  {
   "cell_type": "code",
   "execution_count": null,
   "id": "b52db87e",
   "metadata": {},
   "outputs": [],
   "source": []
  }
 ],
 "metadata": {
  "kernelspec": {
   "display_name": "Python 3",
   "language": "python",
   "name": "python3"
  },
  "language_info": {
   "codemirror_mode": {
    "name": "ipython",
    "version": 3
   },
   "file_extension": ".py",
   "mimetype": "text/x-python",
   "name": "python",
   "nbconvert_exporter": "python",
   "pygments_lexer": "ipython3",
   "version": "3.8.8"
  }
 },
 "nbformat": 4,
 "nbformat_minor": 5
}
