{
 "cells": [
  {
   "cell_type": "code",
   "execution_count": 12,
   "id": "c94ce2c3",
   "metadata": {},
   "outputs": [
    {
     "name": "stdout",
     "output_type": "stream",
     "text": [
      "SMb1716c849df44007bc3ada40d55c81dc\n"
     ]
    }
   ],
   "source": [
    "from twilio.rest import Client\n",
    "account_sid = \"ACbf***********************27f\"\n",
    "auth_token = \"6218****************************e02\"\n",
    "client = Client(account_sid, auth_token)\n",
    "\n",
    "message = client.messages.create( body=\"security alert face detecd\", from_='+120***22579', to='+918290673259')\n",
    "\n",
    "print(message.sid)"
   ]
  },
  {
   "cell_type": "code",
   "execution_count": null,
   "id": "f5125b9a",
   "metadata": {},
   "outputs": [],
   "source": []
  }
 ],
 "metadata": {
  "kernelspec": {
   "display_name": "Python 3",
   "language": "python",
   "name": "python3"
  },
  "language_info": {
   "codemirror_mode": {
    "name": "ipython",
    "version": 3
   },
   "file_extension": ".py",
   "mimetype": "text/x-python",
   "name": "python",
   "nbconvert_exporter": "python",
   "pygments_lexer": "ipython3",
   "version": "3.8.8"
  }
 },
 "nbformat": 4,
 "nbformat_minor": 5
}
